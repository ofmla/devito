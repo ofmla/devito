{
 "cells": [
  {
   "cell_type": "markdown",
   "metadata": {},
   "source": [
    "# Boundary conditions tutorial"
   ]
  },
  {
   "cell_type": "markdown",
   "metadata": {},
   "source": [
    "This tutorial aims to demonstrate how users can implement various boundary conditions in Devito, building on concepts introduced in previous tutorials. Over the course of this notebook we will go over the implementation of both free surface boundary conditions and perfectly-matched layers (PMLs) in the context of the first-order acoustic wave equation. This tutorial is based on the PML implementation outlined in Liu et al's proceeding (https://doi.org/10.1190/1.3627807).\n",
    "\n",
    "We will set up our domain with PMLs along the left, right, and bottom edges, and free surface boundaries at the top as shown below.\n",
    "\n",
    "<img src=\"figures/boundary_conditions.png\" style=\"width: 220px;\"/>\n",
    "\n",
    "Note that whilst in practice we would want the PML tapers to overlap in the corners, this requires additional subdomains. As such, they are omitted for simplicity.\n",
    "\n",
    "As always, we will begin by specifying some parameters for our `Grid`:"
   ]
  },
  {
   "cell_type": "code",
   "execution_count": 1,
   "metadata": {},
   "outputs": [],
   "source": [
    "shape = (101, 101)\n",
    "extent = (2000., 2000.)\n",
    "nbpml = 10  # Number of PMLs on each side"
   ]
  },
  {
   "cell_type": "markdown",
   "metadata": {},
   "source": [
    "We will need to use subdomains to accomodate the modified equations in the PML regions. As `Grid` objects cannot have subdomains added retroactively, we must define our subdomains beforehand."
   ]
  },
  {
   "cell_type": "code",
   "execution_count": 2,
   "metadata": {},
   "outputs": [],
   "source": [
    "from devito import SubDomain\n",
    "\n",
    "class MainDomain(SubDomain):  # Main section with no damping\n",
    "    name = 'main'\n",
    "    def __init__(self, PMLS):\n",
    "        super().__init__()\n",
    "        self.PMLS = PMLS\n",
    "            \n",
    "\n",
    "    def define(self, dimensions):\n",
    "        x, y = dimensions\n",
    "        return {x: ('middle', self.PMLS, self.PMLS), y: ('middle', 0, self.PMLS)}\n",
    "\n",
    "\n",
    "class Left(SubDomain):  # Left PML region\n",
    "    name = 'left'\n",
    "    def __init__(self, PMLS):\n",
    "        super().__init__()\n",
    "        self.PMLS = PMLS\n",
    "\n",
    "    def define(self, dimensions):\n",
    "        x, y = dimensions\n",
    "        return {x: ('left', self.PMLS), y: y}\n",
    "\n",
    "\n",
    "class Right(SubDomain):  # Right PML region\n",
    "    name = 'right'\n",
    "    def __init__(self, PMLS):\n",
    "        super().__init__()\n",
    "        self.PMLS = PMLS\n",
    "\n",
    "    def define(self, dimensions):\n",
    "        x, y = dimensions\n",
    "        return {x: ('right', self.PMLS), y: y}\n",
    "    \n",
    "    \n",
    "class Base(SubDomain):  # Base PML region\n",
    "    name = 'base'\n",
    "    def __init__(self, PMLS):\n",
    "        super().__init__()\n",
    "        self.PMLS = PMLS\n",
    "\n",
    "    def define(self, dimensions):\n",
    "        x, y = dimensions\n",
    "        return {x: ('middle', self.PMLS, self.PMLS), y: ('right', self.PMLS)}\n",
    "\n",
    "\n",
    "main_domain = MainDomain(nbpml)\n",
    "left = Left(nbpml)\n",
    "right = Right(nbpml)\n",
    "base = Base(nbpml)"
   ]
  },
  {
   "cell_type": "markdown",
   "metadata": {},
   "source": [
    "And create the grid, attaching our subdomains:"
   ]
  },
  {
   "cell_type": "code",
   "execution_count": 3,
   "metadata": {},
   "outputs": [],
   "source": [
    "from devito import Grid\n",
    "\n",
    "grid = Grid(shape=shape, extent=extent,\n",
    "            subdomains=(main_domain, left, right, base))\n",
    "x, y = grid.dimensions"
   ]
  },
  {
   "cell_type": "markdown",
   "metadata": {},
   "source": [
    "We can then begin to specify our problem starting with some parameters."
   ]
  },
  {
   "cell_type": "code",
   "execution_count": 4,
   "metadata": {},
   "outputs": [],
   "source": [
    "velocity = 4.  # km/s"
   ]
  },
  {
   "cell_type": "markdown",
   "metadata": {},
   "source": [
    "We also need a `TimeFunction` object for our wavefield."
   ]
  },
  {
   "cell_type": "code",
   "execution_count": 5,
   "metadata": {},
   "outputs": [],
   "source": [
    "from devito import TimeFunction, VectorTimeFunction, NODE\n",
    "\n",
    "p = TimeFunction(name='p', grid=grid, time_order=2,\n",
    "                 space_order=6, staggered=NODE)"
   ]
  },
  {
   "cell_type": "markdown",
   "metadata": {},
   "source": [
    "We will also need to set up a vector auxilliary field in our boundary regions. We will choose a `VectorTimeFunction` object to encapsulate it."
   ]
  },
  {
   "cell_type": "code",
   "execution_count": 6,
   "metadata": {},
   "outputs": [],
   "source": [
    "A = VectorTimeFunction(name='A', grid=grid, time_order=2,\n",
    "                       space_order=6)"
   ]
  },
  {
   "cell_type": "markdown",
   "metadata": {},
   "source": [
    "A `VectorTimeFunction` is near identical in function to a standard `TimeFunction`, albeit with a field for each grid dimension.\n",
    "\n",
    "You may have also noticed the keyword `staggered` in the arguments when we created these functions. As one might expect, these are used for specifying where derivatives should be evaluated relative to the grid, as required for implementing formulations such as the first-order acoustic wave equation or P-SV elastic. Passing a function `staggered=NODE` specifies that its derivatives should be evaluated at the node. One can also pass `staggered=x` or `staggered=y` to stagger the grid by half a spacing in those respective directions. Additionally, a tuple of dimensions can be passed to stagger in multiple directions (e.g. `staggered=(x, y)`). `VectorTimeFunction` objects have their associated grids staggered by default.\n",
    "\n",
    "Next we prepare the source term:"
   ]
  },
  {
   "cell_type": "code",
   "execution_count": 7,
   "metadata": {},
   "outputs": [],
   "source": [
    "import numpy as np\n",
    "from examples.seismic import TimeAxis, RickerSource\n",
    "\n",
    "t0 = 0.  # Simulation starts at t=0\n",
    "tn = 400.  # Simulation length in ms\n",
    "dt = 1e2*(1. / np.sqrt(2.)) / 60.  # Time step\n",
    "\n",
    "time_range = TimeAxis(start=t0, stop=tn, step=dt)\n",
    "\n",
    "f0 = 0.02\n",
    "src = RickerSource(name='src', grid=grid, f0=f0,\n",
    "                   npoint=1, time_range=time_range)\n",
    "\n",
    "# Position source centrally in all dimensions\n",
    "src.coordinates.data[0, :] = 1000."
   ]
  },
  {
   "cell_type": "code",
   "execution_count": 8,
   "metadata": {
    "tags": [
     "nbval-skip"
    ]
   },
   "outputs": [
    {
     "data": {
      "image/png": "[encoded data removed]",
      "text/plain": [
       "<Figure size 432x288 with 1 Axes>"
      ]
     },
     "metadata": {
      "needs_background": "light"
     },
     "output_type": "display_data"
    }
   ],
   "source": [
    "src.show()"
   ]
  },
  {
   "cell_type": "markdown",
   "metadata": {},
   "source": [
    "For our PMLs, we will need some damping parameter. In this case, we will use a quadratic taper over the absorbing regions on the sides of the domain."
   ]
  },
  {
   "cell_type": "code",
   "execution_count": 9,
   "metadata": {},
   "outputs": [],
   "source": [
    "# Damping parameterisation\n",
    "d_l = (1-0.1*x)**2  # Left side\n",
    "d_r = (1-0.1*(grid.shape[0]-1-x))**2  # Right side\n",
    "d_b = (1-0.1*(grid.shape[1]-1-y))**2  # Base edge"
   ]
  },
  {
   "cell_type": "markdown",
   "metadata": {},
   "source": [
    "Now for our main domain equation:"
   ]
  },
  {
   "cell_type": "code",
   "execution_count": 10,
   "metadata": {},
   "outputs": [],
   "source": [
    "from devito import Eq, grad, div\n",
    "\n",
    "eq_p = Eq(p.forward, 2*p - p.backward + dt**2*velocity**2*p.laplace,\n",
    "           subdomain=grid.subdomains['main'])\n",
    "\n",
    "# Update our auxilliary field in the main body of the domain\n",
    "eq_A = Eq(A.forward, A + grad(p),\n",
    "          subdomain=grid.subdomains['main'])"
   ]
  },
  {
   "cell_type": "markdown",
   "metadata": {},
   "source": [
    "And add the equations for our damped region:"
   ]
  },
  {
   "cell_type": "code",
   "execution_count": 11,
   "metadata": {},
   "outputs": [],
   "source": [
    "# Left side\n",
    "eq_p_l = Eq(p.forward, p - d_l*dt*p + dt*velocity**2*div(A.forward),\n",
    "            subdomain=grid.subdomains['left'])\n",
    "\n",
    "eq_A_l = Eq(A.forward, A - d_l*dt*A + grad(p),\n",
    "            subdomain=grid.subdomains['left'])\n",
    "\n",
    "# Right side\n",
    "eq_p_r = Eq(p.forward, p - d_r*dt*p + dt*velocity**2*div(A.forward),\n",
    "            subdomain=grid.subdomains['right'])\n",
    "\n",
    "eq_A_r = Eq(A.forward, A - d_r*dt*A + grad(p),\n",
    "            subdomain=grid.subdomains['right'])\n",
    "\n",
    "\n",
    "# Base edge\n",
    "eq_p_b = Eq(p.forward, p - d_b*dt*p + dt*velocity**2*div(A.forward),\n",
    "            subdomain=grid.subdomains['base'])\n",
    "\n",
    "eq_A_b = Eq(A.forward, A - d_b*dt*A + grad(p),\n",
    "            subdomain=grid.subdomains['base'])\n"
   ]
  },
  {
   "cell_type": "markdown",
   "metadata": {},
   "source": [
    "Add our free surface boundary conditions:"
   ]
  },
  {
   "cell_type": "code",
   "execution_count": 12,
   "metadata": {},
   "outputs": [],
   "source": [
    "time = grid.stepping_dim\n",
    "\n",
    "bc_p = [Eq(p[time+1, x, 3], 0.)]  # Set pressure field to zero at boundary"
   ]
  },
  {
   "cell_type": "markdown",
   "metadata": {},
   "source": [
    "And our source terms:"
   ]
  },
  {
   "cell_type": "code",
   "execution_count": 13,
   "metadata": {},
   "outputs": [],
   "source": [
    "src_term = src.inject(field=p.forward, expr=src*dt**2/grid.spacing[0]**2)"
   ]
  },
  {
   "cell_type": "markdown",
   "metadata": {},
   "source": [
    "Construct our operator and run:"
   ]
  },
  {
   "cell_type": "code",
   "execution_count": 14,
   "metadata": {
    "tags": [
     "nbval-ignore-output"
    ]
   },
   "outputs": [
    {
     "name": "stderr",
     "output_type": "stream",
     "text": [
      "Operator `Kernel` run in 0.02 s\n"
     ]
    }
   ],
   "source": [
    "from devito import Operator\n",
    "\n",
    "op = Operator([eq_A, eq_A_l, eq_A_r, eq_A_b,\n",
    "               eq_p, eq_p_l, eq_p_r, eq_p_b]\n",
    "              + src_term + bc_p)\n",
    "\n",
    "op(time=time_range.num-1)"
   ]
  },
  {
   "cell_type": "markdown",
   "metadata": {},
   "source": [
    "It is important to remember that the ordering of equations when an `Operator` is created dictates the order of loops within the generated c code. Incorrect ordering can lead to updates occuring in the wrong order.\n",
    "\n",
    "Now let's plot the wavefield."
   ]
  },
  {
   "cell_type": "code",
   "execution_count": 15,
   "metadata": {
    "scrolled": true,
    "tags": [
     "nbval-skip"
    ]
   },
   "outputs": [
    {
     "data": {
      "image/png": "[encoded data removed]",
      "text/plain": [
       "<Figure size 432x288 with 2 Axes>"
      ]
     },
     "metadata": {
      "needs_background": "light"
     },
     "output_type": "display_data"
    }
   ],
   "source": [
    "import matplotlib.pyplot as plt\n",
    "\n",
    "p.data[:, :, :3] = 0 #  Mute out mirrored wavefield above free surface\n",
    "\n",
    "scale = np.max(p.data[1])\n",
    "fig = plt.figure()\n",
    "plt.imshow(p.data[1].T,\n",
    "           origin=\"upper\",\n",
    "           vmin=-scale, vmax=scale,\n",
    "           extent=[0, grid.extent[0], grid.extent[1], 0])\n",
    "plt.colorbar()\n",
    "plt.xlabel(\"x (m)\")\n",
    "plt.ylabel(\"y (m)\")\n",
    "plt.show()"
   ]
  },
  {
   "cell_type": "markdown",
   "metadata": {},
   "source": [
    "As we can see, the wave is effectively damped at the edge of the domain by the 10 layers of PMLs, with diminished reflections back into the domain. The slight visible asymmetry arises due to the stagger of the auxilliary field, which is required for stability."
   ]
  }
 ],
 "metadata": {
  "celltoolbar": "Tags",
  "kernelspec": {
   "display_name": "Python 3",
   "language": "python",
   "name": "python3"
  },
  "language_info": {
   "codemirror_mode": {
    "name": "ipython",
    "version": 3
   },
   "file_extension": ".py",
   "mimetype": "text/x-python",
   "name": "python",
   "nbconvert_exporter": "python",
   "pygments_lexer": "ipython3",
   "version": "3.7.4"
  }
 },
 "nbformat": 4,
 "nbformat_minor": 2
}
